{
 "cells": [
  {
   "cell_type": "code",
   "execution_count": 1,
   "metadata": {},
   "outputs": [
    {
     "name": "stderr",
     "output_type": "stream",
     "text": [
      "/hpc/group/cosmology/zg64/miniconda3/envs/grizli39/lib/python3.9/site-packages/pysynphot/locations.py:345: UserWarning: Extinction files not found in /hpc/group/cosmology/zg64/package-repo/grizli/cdbs/extinction\n",
      "  warnings.warn('Extinction files not found in %s' % (extdir, ))\n"
     ]
    }
   ],
   "source": [
    "import os\n",
    "import glob\n",
    "import grizli\n",
    "import grizli.utils\n",
    "from astropy.io import fits\n",
    "from astropy import wcs   \n",
    "from astropy.modeling import models\n",
    "from skimage.morphology import label\n",
    "\n",
    "# Pysynphot\n",
    "pysyn_cdbs = os.getenv('PYSYN_CDBS')\n",
    "if not pysyn_cdbs:\n",
    "    pysyn_cdbs = os.path.join(os.getenv('GRIZLI'), 'cdbs')\n",
    "    if not os.path.exists(pysyn_cdbs):\n",
    "        os.mkdir(pysyn_cdbs)\n",
    "    os.environ['PYSYN_CDBS'] = pysyn_cdbs\n",
    "    \n",
    "import pysynphot as S\n",
    "bp = S.ObsBandpass('wfc3,ir,f140w')"
   ]
  },
  {
   "cell_type": "code",
   "execution_count": 2,
   "metadata": {},
   "outputs": [
    {
     "name": "stdout",
     "output_type": "stream",
     "text": [
      "`import jwst` failed so JWST processing will not work!\n",
      "Failed to `import dust_attenuation`\n",
      "Install my fork with $ pip install git+https://github.com/gbrammer/dust_attenuation.git\n",
      "Failed to `import dust_extinction`\n",
      "Install my fork with $ pip install git+https://github.com/gbrammer/dust_extinction.git\n",
      "\n",
      "\n",
      "The following task in the stsci.skypac package can be run with TEAL:\n",
      "                                    skymatch                                    \n",
      "The following tasks in the drizzlepac package can be run with TEAL:\n",
      "    astrodrizzle       config_testbed      imagefindpars           mapreg       \n",
      "       photeq            pixreplace           pixtopix            pixtosky      \n",
      "  refimagefindpars       resetbits          runastrodriz          skytopix      \n",
      "     tweakback            tweakreg           updatenpol\n"
     ]
    }
   ],
   "source": [
    "from collections import OrderedDict\n",
    "import grizli.multifit\n",
    "import matplotlib as mpl    \n",
    "import matplotlib.pyplot as plt    \n",
    "import matplotlib.gridspec\n",
    "\n",
    "import numpy as np\n",
    "\n",
    "import astropy.io.fits as pyfits\n",
    "import astropy.wcs as pywcs\n",
    "from astropy.table import Table\n",
    "import astropy.time\n",
    "\n",
    "import drizzlepac\n",
    "import photutils\n",
    "import grizli.model\n",
    "import grizli.fake_image\n",
    "\n",
    "workdir = '/hpc/group/cosmology/zg64/package-repo/Roman_grism_sim'\n",
    "if os.path.exists(workdir):\n",
    "    os.chdir(workdir)"
   ]
  },
  {
   "cell_type": "code",
   "execution_count": 3,
   "metadata": {},
   "outputs": [
    {
     "name": "stderr",
     "output_type": "stream",
     "text": [
      "WARNING: VerifyWarning: Verification reported errors: [astropy.io.fits.verify]\n",
      "WARNING: VerifyWarning: HDU 0: [astropy.io.fits.verify]\n",
      "WARNING: VerifyWarning:     NAXISj keyword out of range ('NAXIS1' when NAXIS == 0)  Deleted. [astropy.io.fits.verify]\n",
      "WARNING: VerifyWarning: HDU 1: [astropy.io.fits.verify]\n",
      "WARNING: VerifyWarning:     'NAXIS1' card at the wrong place (card 57).  Fixed by moving it to the right place (card 3). [astropy.io.fits.verify]\n",
      "WARNING: VerifyWarning:     'NAXIS2' card at the wrong place (card 58).  Fixed by moving it to the right place (card 4). [astropy.io.fits.verify]\n",
      "WARNING: VerifyWarning: HDU 2: [astropy.io.fits.verify]\n",
      "WARNING: VerifyWarning: HDU 3: [astropy.io.fits.verify]\n",
      "WARNING: VerifyWarning: Note: astropy.io.fits uses zero-based indexing.\n",
      " [astropy.io.fits.verify]\n"
     ]
    },
    {
     "data": {
      "text/plain": [
       "[<astropy.io.fits.hdu.image.PrimaryHDU object at 0x7fedd204ca00>, <astropy.io.fits.hdu.image.ImageHDU object at 0x7fedd1eb00d0>, <astropy.io.fits.hdu.image.ImageHDU object at 0x7fedd1eb0220>, <astropy.io.fits.hdu.image.ImageHDU object at 0x7fedd1eb0130>]"
      ]
     },
     "execution_count": 3,
     "metadata": {},
     "output_type": "execute_result"
    }
   ],
   "source": [
    "# make fake grism image (just noise) first to get the header\n",
    "\n",
    "NEXP =   10  # divided between 10 exposures\n",
    "EXPTIME = 10000 # 10 ks ~ 4 HST orbits\n",
    "ra, dec = 53.1592277508136, -27.782056346146\n",
    "\n",
    "\n",
    "h, wcs =grizli.fake_image.wfc3ir_header(ra=ra, dec=dec, pa_aper=0)\n",
    "h['TELESCOP'] = 'HST'\n",
    "h['INSTRUME']= 'WFC3'  \n",
    "grizli.fake_image.make_fake_image(h, output='roman_example_flt.fits', exptime=EXPTIME, nexp=NEXP)"
   ]
  },
  {
   "cell_type": "code",
   "execution_count": 4,
   "metadata": {},
   "outputs": [
    {
     "name": "stdout",
     "output_type": "stream",
     "text": [
      "1 39.95278696327057 603.8930062135234 15.115165977499766\n",
      "2 39.95278696327057 603.8930062135234 15.115165977499766\n"
     ]
    }
   ],
   "source": [
    "from astropy import wcs   \n",
    "def get_counts(mag):\n",
    "    counts = np.power(10, -0.4 * (mag - ZP))\n",
    "    return counts\n",
    "\n",
    "dirimage = 'roman_grism_test_dirimg.fits'\n",
    "segfile = dirimage.replace('dirimg.fits', 'segmap.fits')\n",
    "NPIX = 1024\n",
    "\n",
    "# WFC3/IR F140W\n",
    "ZP = 26.4524\n",
    "mag1, mag2 = 19.5,19.5\n",
    "\n",
    "\n",
    "# First create direct image and segfile\n",
    "full_img = np.zeros((NPIX, NPIX))\n",
    "# Create Gaussian function models\n",
    "# stddev in pixels\n",
    "gaussfunc1 = models.Gaussian2D(x_stddev=3, y_stddev=3)\n",
    "gaussfunc2 = models.Gaussian2D(x_stddev=3, y_stddev=3)\n",
    "\n",
    "# Put the two galaxies at predetermined locations\n",
    "gaussfunc1.x_mean = 200\n",
    "gaussfunc1.y_mean = 500\n",
    "gaussfunc2.x_mean = 400\n",
    "gaussfunc2.y_mean = 800\n",
    "\n",
    "x, y = np.meshgrid(np.arange(NPIX), np.arange(NPIX))\n",
    "full_img += gaussfunc1(x, y)\n",
    "full_img += gaussfunc2(x, y)\n",
    "\n",
    "# Get required coutns\n",
    "counts1 = get_counts(mag1)\n",
    "counts2 = get_counts(mag2)\n",
    "all_counts = [counts1, counts2]\n",
    "\n",
    "# Generate segmap\n",
    "threshold = 0.3  # threshold to apply to the image\n",
    "good = full_img > threshold  # these pixels belong to a source\n",
    "segmap = label(good)  # now these pixels have unique SegIDs\n",
    "\n",
    "nonzero_idx = np.where(segmap != 0)\n",
    "segids = np.sort(np.unique(segmap[nonzero_idx]))\n",
    "\n",
    "for i in range(len(segids)):\n",
    "    segid = segids[i]\n",
    "    segidx = np.where(segmap == segid)\n",
    "    src_counts = np.sum(full_img[segidx])\n",
    "    counts = all_counts[i]\n",
    "\n",
    "    # scale\n",
    "    scale_fac = counts / src_counts\n",
    "\n",
    "    # Do not multiply the full img by the scale fac\n",
    "    # or other sources will also be affected\n",
    "    full_img[segidx] *= scale_fac\n",
    "\n",
    "    print(segid, src_counts, counts, scale_fac)\n",
    "\n",
    "# Save\n",
    "# Create a header (pyLINEAR needs WCS)\n",
    "\n",
    "dirimg_hdr = fits.getheader('roman_example_flt.fits')\n",
    "hdr = dirimg_hdr\n",
    "hdr['FILTER'] = 'f140w'\n",
    "#hdr['EXPTIME'] = 140.25\n",
    "\n",
    "del hdr['BACKGR']\n",
    "del hdr['PHOTFLAM']\n",
    "del hdr['PHOTPLAM']\n",
    "del hdr['EXPTIME ']\n",
    "del hdr['NEXP']\n",
    "\n",
    "ihdul = fits.HDUList()\n",
    "\n",
    "\n",
    "ext_sci = fits.ImageHDU(data=full_img, header=hdr, name='SCI')\n",
    "ihdul.append(ext_sci)\n",
    "'''\n",
    "ext_err = fits.ImageHDU(data=np.sqrt(full_img), header=hdr, name='ERR')\n",
    "ihdul.append(ext_err)\n",
    "ext_dq = fits.ImageHDU(data=np.zeros(full_img.shape),\n",
    "                        header=hdr, name='DQ')\n",
    "ihdul.append(ext_dq)\n",
    "'''\n",
    "ihdul.writeto(dirimage, overwrite=True)\n",
    "\n",
    "shdul = fits.HDUList()\n",
    "ext1 = fits.ImageHDU(data=segmap, header=hdr, name='SCI')\n",
    "shdul.append(ext1)\n",
    "shdul.writeto(segfile, overwrite=True)"
   ]
  },
  {
   "cell_type": "code",
   "execution_count": 5,
   "metadata": {},
   "outputs": [
    {
     "data": {
      "text/plain": [
       "\" old code\\nh = grizli.model.GrismFLT(grism_file='roman_example_flt.fits', verbose=True, pad = (0,0),\\n                               ref_file='roman_grism_test_dirimg.fits', \\n                               seg_file='roman_grism_test_segmap.fits')\\n\\n\\nh.compute_full_model(ids=[1,2], mags=[19.5,19.6], verbose=True)\\n\""
      ]
     },
     "execution_count": 5,
     "metadata": {},
     "output_type": "execute_result"
    }
   ],
   "source": [
    "''' old code\n",
    "h = grizli.model.GrismFLT(grism_file='roman_example_flt.fits', verbose=True, pad = (0,0),\n",
    "                               ref_file='roman_grism_test_dirimg.fits', \n",
    "                               seg_file='roman_grism_test_segmap.fits')\n",
    "\n",
    "\n",
    "h.compute_full_model(ids=[1,2], mags=[19.5,19.6], verbose=True)\n",
    "'''"
   ]
  },
  {
   "cell_type": "code",
   "execution_count": 6,
   "metadata": {},
   "outputs": [
    {
     "name": "stdout",
     "output_type": "stream",
     "text": [
      "Image cutout: x=slice(0, 1024, None), y=slice(0, 1024, None) [Out of range]\n",
      "roman_example_flt.fits / blot reference roman_grism_test_dirimg.fits[0]\n",
      "Using default C-based coordinate transformation...\n",
      "Image cutout: x=slice(0, 1024, None), y=slice(0, 1024, None) [Out of range]\n",
      "roman_example_flt.fits / Pad ref HDU with 464 pixels\n",
      "roman_example_flt.fits / blot segmentation roman_grism_test_segmap.fits[0]\n",
      "Using default C-based coordinate transformation...\n",
      "Using default C-based coordinate transformation...\n",
      "Files loaded - 0.95 sec.\n"
     ]
    }
   ],
   "source": [
    "sim = grizli.multifit.GroupFLT(grism_files=['roman_example_flt.fits'], direct_files=[], \n",
    "                               ref_file='roman_grism_test_dirimg.fits', \n",
    "                               seg_file='roman_grism_test_segmap.fits', \n",
    "                               #catalog=cat,\n",
    "                               cpu_count=1, pad=200)"
   ]
  },
  {
   "cell_type": "code",
   "execution_count": 7,
   "metadata": {},
   "outputs": [
    {
     "data": {
      "text/plain": [
       "[<matplotlib.lines.Line2D at 0x7fedd1d31460>]"
      ]
     },
     "execution_count": 7,
     "metadata": {},
     "output_type": "execute_result"
    },
    {
     "data": {
      "image/png": "[encoded data removed]",
      "text/plain": [
       "<Figure size 640x480 with 1 Axes>"
      ]
     },
     "metadata": {},
     "output_type": "display_data"
    }
   ],
   "source": [
    "ref_3dhst = fits.open('udf_3dhst_cat.fits')\n",
    "detection_bp = S.ObsBandpass('wfc3,ir,f140w')\n",
    "templ = ref_3dhst['WAVE'].data*(1+ 1.0)\n",
    "tempf = ref_3dhst['FLAMBDA'].data[16,:]\n",
    "spec = S.ArraySpectrum(wave=templ, flux=tempf, waveunits='angstroms', fluxunits='flam')\n",
    "spec = spec.renorm(1., 'flam', detection_bp)\n",
    "mask, = np.where((spec.wave > 1.15e4) & (spec.wave < 1.6e4))\n",
    "plt.plot(spec.wave[mask], spec.flux[mask])"
   ]
  },
  {
   "cell_type": "code",
   "execution_count": 8,
   "metadata": {},
   "outputs": [],
   "source": [
    "for id in [1,2]:\n",
    "    sim.compute_single_model(id, mag=19.5, size=-1, store=False, \n",
    "                            spectrum_1d=[spec.wave, spec.flux], get_beams=None, \n",
    "                            in_place=True)"
   ]
  },
  {
   "cell_type": "code",
   "execution_count": 9,
   "metadata": {},
   "outputs": [
    {
     "data": {
      "image/png": "[encoded data removed]",
      "text/plain": [
       "<Figure size 900x600 with 1 Axes>"
      ]
     },
     "metadata": {},
     "output_type": "display_data"
    }
   ],
   "source": [
    "fig = plt.figure(figsize=[9,9*2./3])\n",
    "for ix, i in enumerate([0]):\n",
    "    ax = fig.add_subplot(2,3,ix+1)\n",
    "    \n",
    "    # show as if it were the rotated grism\n",
    "    if (i % 2) > 0:\n",
    "        ax.imshow(np.rot90(sim.FLTs[i].model,-1), vmin=-0.01, vmax=0.05, cmap='viridis', \n",
    "                  origin='lower')\n",
    "    else:\n",
    "        ax.imshow(sim.FLTs[i].model, vmin=-0.01, vmax=0.05, cmap='viridis', origin='lower')\n",
    "\n",
    "    #ax.set_xticklabels([]); ax.set_yticklabels([])\n",
    "    #ax.grid(color='w', alpha=0.8)\n",
    "    ax.text(100,100,sim.FLTs[i].grism_file, color='w', size=10, ha='left', va='bottom')\n",
    "fig.tight_layout(pad=0.1)"
   ]
  },
  {
   "cell_type": "code",
   "execution_count": 10,
   "metadata": {},
   "outputs": [
    {
     "name": "stdout",
     "output_type": "stream",
     "text": [
      "Update roman_example_flt.fits\n"
     ]
    },
    {
     "name": "stderr",
     "output_type": "stream",
     "text": [
      "WARNING: VerifyWarning: Verification reported errors: [astropy.io.fits.verify]\n",
      "WARNING: VerifyWarning: HDU 0: [astropy.io.fits.verify]\n",
      "WARNING: VerifyWarning:     NAXISj keyword out of range ('NAXIS2' when NAXIS == 0)  Deleted. [astropy.io.fits.verify]\n",
      "WARNING: VerifyWarning: Note: astropy.io.fits uses zero-based indexing.\n",
      " [astropy.io.fits.verify]\n"
     ]
    }
   ],
   "source": [
    "for flt in sim.FLTs:\n",
    "    print('Update', flt.grism_file)\n",
    "    orig_flt = fits.open(flt.grism_file, mode='update')\n",
    "    orig_flt['SCI'].data = np.zeros(orig_flt['SCI'].data.shape)\n",
    "    orig_flt['SCI'].data += flt.model[flt.pad[0]:-flt.pad[0], flt.pad[0]:-flt.pad[0]]\n",
    "    orig_flt.flush()"
   ]
  },
  {
   "cell_type": "code",
   "execution_count": null,
   "metadata": {},
   "outputs": [],
   "source": []
  }
 ],
 "metadata": {
  "kernelspec": {
   "display_name": "Python 3 (ipykernel)",
   "language": "python",
   "name": "python3"
  },
  "language_info": {
   "codemirror_mode": {
    "name": "ipython",
    "version": 3
   },
   "file_extension": ".py",
   "mimetype": "text/x-python",
   "name": "python",
   "nbconvert_exporter": "python",
   "pygments_lexer": "ipython3",
   "version": "3.9.17"
  },
  "orig_nbformat": 4
 },
 "nbformat": 4,
 "nbformat_minor": 2
}
